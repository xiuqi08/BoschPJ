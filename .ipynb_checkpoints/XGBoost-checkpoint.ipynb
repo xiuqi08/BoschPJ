{
 "cells": [
  {
   "cell_type": "code",
<<<<<<< HEAD
   "execution_count": 1,
   "metadata": {},
   "outputs": [
    {
     "name": "stderr",
     "output_type": "stream",
     "text": [
      "/anaconda3/lib/python3.6/site-packages/sklearn/cross_validation.py:41: DeprecationWarning: This module was deprecated in version 0.18 in favor of the model_selection module into which all the refactored classes and functions are moved. Also note that the interface of the new CV iterators are different from that of this module. This module will be removed in 0.20.\n",
      "  \"This module will be removed in 0.20.\", DeprecationWarning)\n"
     ]
    }
   ],
=======
   "execution_count": 7,
   "metadata": {},
   "outputs": [],
>>>>>>> 6b2452a9317f789f262b2ed65049f56269cb8a94
   "source": [
    "import numpy as np\n",
    "import pandas as pd\n",
    "from xgboost import XGBClassifier\n",
    "from sklearn.metrics import matthews_corrcoef, roc_auc_score\n",
    "from sklearn.cross_validation import cross_val_score, StratifiedKFold\n",
    "import matplotlib.pyplot as plt\n",
    "import seaborn as sbn\n",
    "%matplotlib inline\n",
    "\n",
<<<<<<< HEAD
    "DATA_DIR = \"./\"\n",
=======
    "CHUNKSIZE = 10000\n",
    "NROWS = 50000\n",
    "DATA_DIR = \"/Users/xiuqi/Downloads/Data/Bosch\"\n",
>>>>>>> 6b2452a9317f789f262b2ed65049f56269cb8a94
    "TRAIN_DATE = \"{0}/train_date.csv\".format(DATA_DIR)\n",
    "TRAIN_NUMERIC = \"{0}/train_numeric.csv\".format(DATA_DIR)"
   ]
  },
  {
   "cell_type": "code",
<<<<<<< HEAD
   "execution_count": 12,
   "metadata": {},
   "outputs": [
    {
     "name": "stderr",
     "output_type": "stream",
     "text": [
      "/anaconda3/lib/python3.6/site-packages/numpy/lib/arraysetops.py:463: FutureWarning: elementwise comparison failed; returning scalar instead, but in the future will perform elementwise comparison\n",
      "  mask |= (ar1 == a)\n"
=======
   "execution_count": 4,
   "metadata": {},
   "outputs": [
    {
     "name": "stdout",
     "output_type": "stream",
     "text": [
      "Index(['Id', 'L0_S0_D1', 'L0_S0_D3', 'L0_S0_D5', 'L0_S0_D7', 'L0_S0_D9',\n",
      "       'L0_S0_D11', 'L0_S0_D13', 'L0_S0_D15', 'L0_S0_D17',\n",
      "       ...\n",
      "       'L3_S50_D4246', 'L3_S50_D4248', 'L3_S50_D4250', 'L3_S50_D4252',\n",
      "       'L3_S50_D4254', 'L3_S51_D4255', 'L3_S51_D4257', 'L3_S51_D4259',\n",
      "       'L3_S51_D4261', 'L3_S51_D4263'],\n",
      "      dtype='object', length=1157)\n",
      "Index(['Id', 'L0_S0_F0', 'L0_S0_F2', 'L0_S0_F4', 'L0_S0_F6', 'L0_S0_F8',\n",
      "       'L0_S0_F10', 'L0_S0_F12', 'L0_S0_F14', 'L0_S0_F16',\n",
      "       ...\n",
      "       'L3_S50_F4245', 'L3_S50_F4247', 'L3_S50_F4249', 'L3_S50_F4251',\n",
      "       'L3_S50_F4253', 'L3_S51_F4256', 'L3_S51_F4258', 'L3_S51_F4260',\n",
      "       'L3_S51_F4262', 'Response'],\n",
      "      dtype='object', length=970)\n"
>>>>>>> 6b2452a9317f789f262b2ed65049f56269cb8a94
     ]
    }
   ],
   "source": [
<<<<<<< HEAD
    "date_chunks = pd.read_csv(TRAIN_DATE, index_col=0, chunksize=100000, dtype=np.float32)\n",
    "num_chunks = pd.read_csv(TRAIN_NUMERIC, index_col=0, chunksize=100000, dtype=np.float32)\n",
    "X = pd.concat([pd.concat([dchunk,nchunk],axis=1).sample(frac=0.05) for dchunk,nchunk in zip(date_chunks,num_chunks)],axis=0)\n",
    "X.iloc[:10,:]"
=======
    "date_cols = pd.read_csv(TRAIN_DATE,nrows=1)\n",
    "num_cols = pd.read_csv(TRAIN_NUMERIC,nrows=1)\n",
    "print(date_cols.columns)\n",
    "print(num_cols.columns)"
>>>>>>> 6b2452a9317f789f262b2ed65049f56269cb8a94
   ]
  },
  {
   "cell_type": "code",
<<<<<<< HEAD
   "execution_count": 3,
   "metadata": {},
   "outputs": [
    {
     "name": "stderr",
     "output_type": "stream",
     "text": [
      "/anaconda3/lib/python3.6/site-packages/numpy/lib/arraysetops.py:463: FutureWarning: elementwise comparison failed; returning scalar instead, but in the future will perform elementwise comparison\n",
      "  mask |= (ar1 == a)\n"
     ]
    },
    {
     "data": {
      "text/html": [
       "<div>\n",
       "<style>\n",
       "    .dataframe thead tr:only-child th {\n",
       "        text-align: right;\n",
       "    }\n",
       "\n",
       "    .dataframe thead th {\n",
       "        text-align: left;\n",
       "    }\n",
       "\n",
       "    .dataframe tbody tr th {\n",
       "        vertical-align: top;\n",
       "    }\n",
       "</style>\n",
       "<table border=\"1\" class=\"dataframe\">\n",
       "  <thead>\n",
       "    <tr style=\"text-align: right;\">\n",
       "      <th></th>\n",
       "      <th>Response</th>\n",
       "    </tr>\n",
       "    <tr>\n",
       "      <th>Id</th>\n",
       "      <th></th>\n",
       "    </tr>\n",
       "  </thead>\n",
       "  <tbody>\n",
       "    <tr>\n",
       "      <th>4.0</th>\n",
       "      <td>0.0</td>\n",
       "    </tr>\n",
       "    <tr>\n",
       "      <th>6.0</th>\n",
       "      <td>0.0</td>\n",
       "    </tr>\n",
       "    <tr>\n",
       "      <th>7.0</th>\n",
       "      <td>0.0</td>\n",
       "    </tr>\n",
       "    <tr>\n",
       "      <th>9.0</th>\n",
       "      <td>0.0</td>\n",
       "    </tr>\n",
       "    <tr>\n",
       "      <th>11.0</th>\n",
       "      <td>0.0</td>\n",
       "    </tr>\n",
       "    <tr>\n",
       "      <th>13.0</th>\n",
       "      <td>0.0</td>\n",
       "    </tr>\n",
       "    <tr>\n",
       "      <th>14.0</th>\n",
       "      <td>0.0</td>\n",
       "    </tr>\n",
       "    <tr>\n",
       "      <th>16.0</th>\n",
       "      <td>0.0</td>\n",
       "    </tr>\n",
       "    <tr>\n",
       "      <th>18.0</th>\n",
       "      <td>0.0</td>\n",
       "    </tr>\n",
       "    <tr>\n",
       "      <th>23.0</th>\n",
       "      <td>0.0</td>\n",
       "    </tr>\n",
       "  </tbody>\n",
       "</table>\n",
       "</div>"
      ],
      "text/plain": [
       "      Response\n",
       "Id            \n",
       "4.0        0.0\n",
       "6.0        0.0\n",
       "7.0        0.0\n",
       "9.0        0.0\n",
       "11.0       0.0\n",
       "13.0       0.0\n",
       "14.0       0.0\n",
       "16.0       0.0\n",
       "18.0       0.0\n",
       "23.0       0.0"
      ]
     },
     "execution_count": 3,
     "metadata": {},
     "output_type": "execute_result"
    }
   ],
   "source": [
    "y = pd.read_csv(TRAIN_NUMERIC, index_col=0, usecols=[0,969], dtype=np.float32)\n",
    "y.iloc[:10,:]"
=======
   "execution_count": 8,
   "metadata": {},
   "outputs": [
    {
     "ename": "ValueError",
     "evalue": "Shape of passed values is (2123, 794522), indices imply (2123, 20000)",
     "output_type": "error",
     "traceback": [
      "\u001b[0;31m---------------------------------------------------------------------------\u001b[0m",
      "\u001b[0;31mValueError\u001b[0m                                Traceback (most recent call last)",
      "\u001b[0;32m<ipython-input-8-e66305ac8ea6>\u001b[0m in \u001b[0;36m<module>\u001b[0;34m()\u001b[0m\n\u001b[1;32m      2\u001b[0m num_chunks = pd.read_csv(TRAIN_NUMERIC, index_col=0, usecols=list(range(1,len(num_cols.columns)-1)),\n\u001b[1;32m      3\u001b[0m                          chunksize=CHUNKSIZE, dtype=np.float32, nrows = NROWS)\n\u001b[0;32m----> 4\u001b[0;31m \u001b[0mX\u001b[0m \u001b[0;34m=\u001b[0m \u001b[0mpd\u001b[0m\u001b[0;34m.\u001b[0m\u001b[0mconcat\u001b[0m\u001b[0;34m(\u001b[0m\u001b[0;34m[\u001b[0m\u001b[0mpd\u001b[0m\u001b[0;34m.\u001b[0m\u001b[0mconcat\u001b[0m\u001b[0;34m(\u001b[0m\u001b[0;34m[\u001b[0m\u001b[0mdchunk\u001b[0m\u001b[0;34m,\u001b[0m\u001b[0mnchunk\u001b[0m\u001b[0;34m]\u001b[0m\u001b[0;34m,\u001b[0m\u001b[0maxis\u001b[0m\u001b[0;34m=\u001b[0m\u001b[0;36m1\u001b[0m\u001b[0;34m)\u001b[0m\u001b[0;34m.\u001b[0m\u001b[0msample\u001b[0m\u001b[0;34m(\u001b[0m\u001b[0mfrac\u001b[0m\u001b[0;34m=\u001b[0m\u001b[0;36m0.05\u001b[0m\u001b[0;34m,\u001b[0m\u001b[0mrandom_state\u001b[0m\u001b[0;34m=\u001b[0m\u001b[0;36m14\u001b[0m\u001b[0;34m)\u001b[0m \u001b[0;32mfor\u001b[0m \u001b[0mdchunk\u001b[0m\u001b[0;34m,\u001b[0m\u001b[0mnchunk\u001b[0m \u001b[0;32min\u001b[0m \u001b[0mzip\u001b[0m\u001b[0;34m(\u001b[0m\u001b[0mdate_chunks\u001b[0m\u001b[0;34m,\u001b[0m\u001b[0mnum_chunks\u001b[0m\u001b[0;34m)\u001b[0m\u001b[0;34m]\u001b[0m\u001b[0;34m,\u001b[0m\u001b[0maxis\u001b[0m\u001b[0;34m=\u001b[0m\u001b[0;36m0\u001b[0m\u001b[0;34m)\u001b[0m\u001b[0;34m\u001b[0m\u001b[0m\n\u001b[0m\u001b[1;32m      5\u001b[0m \u001b[0mX\u001b[0m\u001b[0;34m.\u001b[0m\u001b[0miloc\u001b[0m\u001b[0;34m[\u001b[0m\u001b[0;34m:\u001b[0m\u001b[0;36m10\u001b[0m\u001b[0;34m,\u001b[0m\u001b[0;34m:\u001b[0m\u001b[0;34m]\u001b[0m\u001b[0;34m\u001b[0m\u001b[0m\n",
      "\u001b[0;32m<ipython-input-8-e66305ac8ea6>\u001b[0m in \u001b[0;36m<listcomp>\u001b[0;34m(.0)\u001b[0m\n\u001b[1;32m      2\u001b[0m num_chunks = pd.read_csv(TRAIN_NUMERIC, index_col=0, usecols=list(range(1,len(num_cols.columns)-1)),\n\u001b[1;32m      3\u001b[0m                          chunksize=CHUNKSIZE, dtype=np.float32, nrows = NROWS)\n\u001b[0;32m----> 4\u001b[0;31m \u001b[0mX\u001b[0m \u001b[0;34m=\u001b[0m \u001b[0mpd\u001b[0m\u001b[0;34m.\u001b[0m\u001b[0mconcat\u001b[0m\u001b[0;34m(\u001b[0m\u001b[0;34m[\u001b[0m\u001b[0mpd\u001b[0m\u001b[0;34m.\u001b[0m\u001b[0mconcat\u001b[0m\u001b[0;34m(\u001b[0m\u001b[0;34m[\u001b[0m\u001b[0mdchunk\u001b[0m\u001b[0;34m,\u001b[0m\u001b[0mnchunk\u001b[0m\u001b[0;34m]\u001b[0m\u001b[0;34m,\u001b[0m\u001b[0maxis\u001b[0m\u001b[0;34m=\u001b[0m\u001b[0;36m1\u001b[0m\u001b[0;34m)\u001b[0m\u001b[0;34m.\u001b[0m\u001b[0msample\u001b[0m\u001b[0;34m(\u001b[0m\u001b[0mfrac\u001b[0m\u001b[0;34m=\u001b[0m\u001b[0;36m0.05\u001b[0m\u001b[0;34m,\u001b[0m\u001b[0mrandom_state\u001b[0m\u001b[0;34m=\u001b[0m\u001b[0;36m14\u001b[0m\u001b[0;34m)\u001b[0m \u001b[0;32mfor\u001b[0m \u001b[0mdchunk\u001b[0m\u001b[0;34m,\u001b[0m\u001b[0mnchunk\u001b[0m \u001b[0;32min\u001b[0m \u001b[0mzip\u001b[0m\u001b[0;34m(\u001b[0m\u001b[0mdate_chunks\u001b[0m\u001b[0;34m,\u001b[0m\u001b[0mnum_chunks\u001b[0m\u001b[0;34m)\u001b[0m\u001b[0;34m]\u001b[0m\u001b[0;34m,\u001b[0m\u001b[0maxis\u001b[0m\u001b[0;34m=\u001b[0m\u001b[0;36m0\u001b[0m\u001b[0;34m)\u001b[0m\u001b[0;34m\u001b[0m\u001b[0m\n\u001b[0m\u001b[1;32m      5\u001b[0m \u001b[0mX\u001b[0m\u001b[0;34m.\u001b[0m\u001b[0miloc\u001b[0m\u001b[0;34m[\u001b[0m\u001b[0;34m:\u001b[0m\u001b[0;36m10\u001b[0m\u001b[0;34m,\u001b[0m\u001b[0;34m:\u001b[0m\u001b[0;34m]\u001b[0m\u001b[0;34m\u001b[0m\u001b[0m\n",
      "\u001b[0;32m~/anaconda3/lib/python3.6/site-packages/pandas/core/reshape/concat.py\u001b[0m in \u001b[0;36mconcat\u001b[0;34m(objs, axis, join, join_axes, ignore_index, keys, levels, names, verify_integrity, copy)\u001b[0m\n\u001b[1;32m    205\u001b[0m                        \u001b[0mverify_integrity\u001b[0m\u001b[0;34m=\u001b[0m\u001b[0mverify_integrity\u001b[0m\u001b[0;34m,\u001b[0m\u001b[0;34m\u001b[0m\u001b[0m\n\u001b[1;32m    206\u001b[0m                        copy=copy)\n\u001b[0;32m--> 207\u001b[0;31m     \u001b[0;32mreturn\u001b[0m \u001b[0mop\u001b[0m\u001b[0;34m.\u001b[0m\u001b[0mget_result\u001b[0m\u001b[0;34m(\u001b[0m\u001b[0;34m)\u001b[0m\u001b[0;34m\u001b[0m\u001b[0m\n\u001b[0m\u001b[1;32m    208\u001b[0m \u001b[0;34m\u001b[0m\u001b[0m\n\u001b[1;32m    209\u001b[0m \u001b[0;34m\u001b[0m\u001b[0m\n",
      "\u001b[0;32m~/anaconda3/lib/python3.6/site-packages/pandas/core/reshape/concat.py\u001b[0m in \u001b[0;36mget_result\u001b[0;34m(self)\u001b[0m\n\u001b[1;32m    405\u001b[0m             new_data = concatenate_block_managers(\n\u001b[1;32m    406\u001b[0m                 \u001b[0mmgrs_indexers\u001b[0m\u001b[0;34m,\u001b[0m \u001b[0mself\u001b[0m\u001b[0;34m.\u001b[0m\u001b[0mnew_axes\u001b[0m\u001b[0;34m,\u001b[0m \u001b[0mconcat_axis\u001b[0m\u001b[0;34m=\u001b[0m\u001b[0mself\u001b[0m\u001b[0;34m.\u001b[0m\u001b[0maxis\u001b[0m\u001b[0;34m,\u001b[0m\u001b[0;34m\u001b[0m\u001b[0m\n\u001b[0;32m--> 407\u001b[0;31m                 copy=self.copy)\n\u001b[0m\u001b[1;32m    408\u001b[0m             \u001b[0;32mif\u001b[0m \u001b[0;32mnot\u001b[0m \u001b[0mself\u001b[0m\u001b[0;34m.\u001b[0m\u001b[0mcopy\u001b[0m\u001b[0;34m:\u001b[0m\u001b[0;34m\u001b[0m\u001b[0m\n\u001b[1;32m    409\u001b[0m                 \u001b[0mnew_data\u001b[0m\u001b[0;34m.\u001b[0m\u001b[0m_consolidate_inplace\u001b[0m\u001b[0;34m(\u001b[0m\u001b[0;34m)\u001b[0m\u001b[0;34m\u001b[0m\u001b[0m\n",
      "\u001b[0;32m~/anaconda3/lib/python3.6/site-packages/pandas/core/internals.py\u001b[0m in \u001b[0;36mconcatenate_block_managers\u001b[0;34m(mgrs_indexers, axes, concat_axis, copy)\u001b[0m\n\u001b[1;32m   4832\u001b[0m         placement=placement) for placement, join_units in concat_plan]\n\u001b[1;32m   4833\u001b[0m \u001b[0;34m\u001b[0m\u001b[0m\n\u001b[0;32m-> 4834\u001b[0;31m     \u001b[0;32mreturn\u001b[0m \u001b[0mBlockManager\u001b[0m\u001b[0;34m(\u001b[0m\u001b[0mblocks\u001b[0m\u001b[0;34m,\u001b[0m \u001b[0maxes\u001b[0m\u001b[0;34m)\u001b[0m\u001b[0;34m\u001b[0m\u001b[0m\n\u001b[0m\u001b[1;32m   4835\u001b[0m \u001b[0;34m\u001b[0m\u001b[0m\n\u001b[1;32m   4836\u001b[0m \u001b[0;34m\u001b[0m\u001b[0m\n",
      "\u001b[0;32m~/anaconda3/lib/python3.6/site-packages/pandas/core/internals.py\u001b[0m in \u001b[0;36m__init__\u001b[0;34m(self, blocks, axes, do_integrity_check, fastpath)\u001b[0m\n\u001b[1;32m   2793\u001b[0m \u001b[0;34m\u001b[0m\u001b[0m\n\u001b[1;32m   2794\u001b[0m         \u001b[0;32mif\u001b[0m \u001b[0mdo_integrity_check\u001b[0m\u001b[0;34m:\u001b[0m\u001b[0;34m\u001b[0m\u001b[0m\n\u001b[0;32m-> 2795\u001b[0;31m             \u001b[0mself\u001b[0m\u001b[0;34m.\u001b[0m\u001b[0m_verify_integrity\u001b[0m\u001b[0;34m(\u001b[0m\u001b[0;34m)\u001b[0m\u001b[0;34m\u001b[0m\u001b[0m\n\u001b[0m\u001b[1;32m   2796\u001b[0m \u001b[0;34m\u001b[0m\u001b[0m\n\u001b[1;32m   2797\u001b[0m         \u001b[0mself\u001b[0m\u001b[0;34m.\u001b[0m\u001b[0m_consolidate_check\u001b[0m\u001b[0;34m(\u001b[0m\u001b[0;34m)\u001b[0m\u001b[0;34m\u001b[0m\u001b[0m\n",
      "\u001b[0;32m~/anaconda3/lib/python3.6/site-packages/pandas/core/internals.py\u001b[0m in \u001b[0;36m_verify_integrity\u001b[0;34m(self)\u001b[0m\n\u001b[1;32m   3004\u001b[0m         \u001b[0;32mfor\u001b[0m \u001b[0mblock\u001b[0m \u001b[0;32min\u001b[0m \u001b[0mself\u001b[0m\u001b[0;34m.\u001b[0m\u001b[0mblocks\u001b[0m\u001b[0;34m:\u001b[0m\u001b[0;34m\u001b[0m\u001b[0m\n\u001b[1;32m   3005\u001b[0m             \u001b[0;32mif\u001b[0m \u001b[0mblock\u001b[0m\u001b[0;34m.\u001b[0m\u001b[0m_verify_integrity\u001b[0m \u001b[0;32mand\u001b[0m \u001b[0mblock\u001b[0m\u001b[0;34m.\u001b[0m\u001b[0mshape\u001b[0m\u001b[0;34m[\u001b[0m\u001b[0;36m1\u001b[0m\u001b[0;34m:\u001b[0m\u001b[0;34m]\u001b[0m \u001b[0;34m!=\u001b[0m \u001b[0mmgr_shape\u001b[0m\u001b[0;34m[\u001b[0m\u001b[0;36m1\u001b[0m\u001b[0;34m:\u001b[0m\u001b[0;34m]\u001b[0m\u001b[0;34m:\u001b[0m\u001b[0;34m\u001b[0m\u001b[0m\n\u001b[0;32m-> 3006\u001b[0;31m                 \u001b[0mconstruction_error\u001b[0m\u001b[0;34m(\u001b[0m\u001b[0mtot_items\u001b[0m\u001b[0;34m,\u001b[0m \u001b[0mblock\u001b[0m\u001b[0;34m.\u001b[0m\u001b[0mshape\u001b[0m\u001b[0;34m[\u001b[0m\u001b[0;36m1\u001b[0m\u001b[0;34m:\u001b[0m\u001b[0;34m]\u001b[0m\u001b[0;34m,\u001b[0m \u001b[0mself\u001b[0m\u001b[0;34m.\u001b[0m\u001b[0maxes\u001b[0m\u001b[0;34m)\u001b[0m\u001b[0;34m\u001b[0m\u001b[0m\n\u001b[0m\u001b[1;32m   3007\u001b[0m         \u001b[0;32mif\u001b[0m \u001b[0mlen\u001b[0m\u001b[0;34m(\u001b[0m\u001b[0mself\u001b[0m\u001b[0;34m.\u001b[0m\u001b[0mitems\u001b[0m\u001b[0;34m)\u001b[0m \u001b[0;34m!=\u001b[0m \u001b[0mtot_items\u001b[0m\u001b[0;34m:\u001b[0m\u001b[0;34m\u001b[0m\u001b[0m\n\u001b[1;32m   3008\u001b[0m             raise AssertionError('Number of manager items must equal union of '\n",
      "\u001b[0;32m~/anaconda3/lib/python3.6/site-packages/pandas/core/internals.py\u001b[0m in \u001b[0;36mconstruction_error\u001b[0;34m(tot_items, block_shape, axes, e)\u001b[0m\n\u001b[1;32m   4278\u001b[0m         \u001b[0;32mraise\u001b[0m \u001b[0mValueError\u001b[0m\u001b[0;34m(\u001b[0m\u001b[0;34m\"Empty data passed with indices specified.\"\u001b[0m\u001b[0;34m)\u001b[0m\u001b[0;34m\u001b[0m\u001b[0m\n\u001b[1;32m   4279\u001b[0m     raise ValueError(\"Shape of passed values is {0}, indices imply {1}\".format(\n\u001b[0;32m-> 4280\u001b[0;31m         passed, implied))\n\u001b[0m\u001b[1;32m   4281\u001b[0m \u001b[0;34m\u001b[0m\u001b[0m\n\u001b[1;32m   4282\u001b[0m \u001b[0;34m\u001b[0m\u001b[0m\n",
      "\u001b[0;31mValueError\u001b[0m: Shape of passed values is (2123, 794522), indices imply (2123, 20000)"
     ]
    }
   ],
   "source": [
    "date_chunks = pd.read_csv(TRAIN_DATE, index_col=0, chunksize=CHUNKSIZE, dtype=np.float32, nrows = NROWS)\n",
    "num_chunks = pd.read_csv(TRAIN_NUMERIC, index_col=0, usecols=list(range(1,len(num_cols.columns)-1)),\n",
    "                         chunksize=CHUNKSIZE, dtype=np.float32, nrows = NROWS)\n",
    "X = pd.concat([pd.concat([dchunk,nchunk],axis=1).sample(frac=0.05,random_state=14) for dchunk,nchunk in zip(date_chunks,num_chunks)],axis=0)\n",
    "X.iloc[:10,:]"
>>>>>>> 6b2452a9317f789f262b2ed65049f56269cb8a94
   ]
  },
  {
   "cell_type": "code",
<<<<<<< HEAD
   "execution_count": 4,
=======
   "execution_count": null,
>>>>>>> 6b2452a9317f789f262b2ed65049f56269cb8a94
   "metadata": {
    "collapsed": true
   },
   "outputs": [],
<<<<<<< HEAD
   "source": [
    "y_val = y.loc[X.index].values.ravel()\n",
    "X = X.values"
   ]
  },
  {
   "cell_type": "code",
   "execution_count": 5,
   "metadata": {},
   "outputs": [
    {
     "data": {
      "text/plain": [
       "XGBClassifier(base_score=0.05, booster='gbtree', colsample_bylevel=1,\n",
       "       colsample_bytree=1, gamma=0, learning_rate=0.1, max_delta_step=0,\n",
       "       max_depth=3, min_child_weight=1, missing=None, n_estimators=100,\n",
       "       n_jobs=1, nthread=None, objective='binary:logistic', random_state=0,\n",
       "       reg_alpha=0, reg_lambda=1, scale_pos_weight=1, seed=None,\n",
       "       silent=True, subsample=1)"
      ]
     },
     "execution_count": 5,
     "metadata": {},
     "output_type": "execute_result"
    }
   ],
   "source": [
=======
   "source": []
  },
  {
   "cell_type": "code",
   "execution_count": null,
   "metadata": {
    "collapsed": true
   },
   "outputs": [],
   "source": [
    "y = pd.read_csv(TRAIN_NUMERIC, index_col=0, usecols=[0,969], dtype=np.float32)\n",
    "y.iloc[:10,:]\n",
    "y_val = y.loc[X.index].values.ravel()\n",
    "X = X.values\n",
>>>>>>> 6b2452a9317f789f262b2ed65049f56269cb8a94
    "clf = XGBClassifier(base_score=0.05)\n",
    "clf.fit(X,y_val)"
   ]
  },
  {
   "cell_type": "code",
<<<<<<< HEAD
   "execution_count": 7,
   "metadata": {},
   "outputs": [
    {
     "name": "stdout",
     "output_type": "stream",
     "text": [
      "[ 939 1019 1887 1907 2124]\n"
     ]
    },
    {
     "data": {
      "image/png": "iVBORw0KGgoAAAANSUhEUgAAAXcAAAD8CAYAAACMwORRAAAABHNCSVQICAgIfAhkiAAAAAlwSFlz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\ncpekBlnuktSg/wWwoS8BGRI8nAAAAABJRU5ErkJggg==\n",
      "text/plain": [
       "<matplotlib.figure.Figure at 0x1a114035f8>"
      ]
     },
     "metadata": {},
     "output_type": "display_data"
    }
   ],
=======
   "execution_count": null,
   "metadata": {
    "collapsed": true
   },
   "outputs": [],
>>>>>>> 6b2452a9317f789f262b2ed65049f56269cb8a94
   "source": [
    "plt.hist(clf.feature_importances_[clf.feature_importances_>0])\n",
    "important_indices = np.where(clf.feature_importances_>0.005)[0]\n",
    "print(important_indices)"
   ]
  },
  {
   "cell_type": "code",
<<<<<<< HEAD
   "execution_count": 8,
   "metadata": {},
   "outputs": [
    {
     "name": "stderr",
     "output_type": "stream",
     "text": [
      "/anaconda3/lib/python3.6/site-packages/numpy/lib/arraysetops.py:463: FutureWarning: elementwise comparison failed; returning scalar instead, but in the future will perform elementwise comparison\n",
      "  mask |= (ar1 == a)\n"
     ]
    }
   ],
=======
   "execution_count": null,
   "metadata": {
    "collapsed": true
   },
   "outputs": [],
>>>>>>> 6b2452a9317f789f262b2ed65049f56269cb8a94
   "source": [
    "date_cols = pd.read_csv(TRAIN_DATE,index_col=0,nrows=1)\n",
    "n_date_features = len(date_cols.columns)\n",
    "X = np.concatenate([pd.read_csv(TRAIN_DATE,index_col=0,dtype=np.float32,usecols=np.concatenate([[0],important_indices[important_indices<n_date_features]+1])).values,\n",
    "               pd.read_csv(TRAIN_NUMERIC,index_col=0,dtype=np.float32,usecols=np.concatenate([[0],important_indices[important_indices>=n_date_features]+1-n_date_features])).values],axis=1)"
   ]
  },
  {
   "cell_type": "code",
<<<<<<< HEAD
   "execution_count": 9,
   "metadata": {},
   "outputs": [
    {
     "name": "stderr",
     "output_type": "stream",
     "text": [
      "/anaconda3/lib/python3.6/site-packages/numpy/lib/arraysetops.py:463: FutureWarning: elementwise comparison failed; returning scalar instead, but in the future will perform elementwise comparison\n",
      "  mask |= (ar1 == a)\n"
     ]
    }
   ],
=======
   "execution_count": null,
   "metadata": {
    "collapsed": true
   },
   "outputs": [],
>>>>>>> 6b2452a9317f789f262b2ed65049f56269cb8a94
   "source": [
    "y = pd.read_csv(TRAIN_NUMERIC,index_col=0,dtype=np.float32,usecols=[0,969]).values.ravel()"
   ]
  },
  {
   "cell_type": "code",
<<<<<<< HEAD
   "execution_count": 10,
   "metadata": {},
   "outputs": [
    {
     "name": "stdout",
     "output_type": "stream",
     "text": [
      "fold 0, ROC AUC: 1.000\n",
      "fold 1, ROC AUC: 1.000\n",
      "fold 2, ROC AUC: 1.000\n",
      "1.0\n"
     ]
    }
   ],
   "source": [
    "clf = XGBClassifier(max_depth=5,base_score=0.05)\n",
    "cv = StratifiedKFold(y,n_folds=3)\n",
    "preds = np.ones(y.shape[0])\n",
    "for i,(train,test) in enumerate(cv):\n",
    "    preds[test] = clf.fit(X[train],y[train]).predict_proba(X[test])[:,1]\n",
    "    print(\"fold {}, ROC AUC: {:.3f}\".format(i,roc_auc_score(y[test],preds[test])))\n",
    "print(roc_auc_score(y,preds))"
=======
   "execution_count": null,
   "metadata": {
    "collapsed": true
   },
   "outputs": [],
   "source": [
    "date_cols = pd.read_csv(TRAIN_DATE,index_col=0,nrows=1)\n",
    "n_date_features = len(date_cols.columns)\n",
    "X = np.concatenate([pd.read_csv(TRAIN_DATE,index_col=0,dtype=np.float32,usecols=np.concatenate([[0],important_indices[important_indices<n_date_features]+1])).values,\n",
    "               pd.read_csv(TRAIN_NUMERIC,index_col=0,dtype=np.float32,usecols=np.concatenate([[0],important_indices[important_indices>=n_date_features]+1-n_date_features])).values],axis=1)"
>>>>>>> 6b2452a9317f789f262b2ed65049f56269cb8a94
   ]
  },
  {
   "cell_type": "code",
<<<<<<< HEAD
   "execution_count": 11,
   "metadata": {},
   "outputs": [
    {
     "name": "stdout",
     "output_type": "stream",
     "text": [
      "1.0\n"
     ]
    },
    {
     "data": {
      "image/png": "iVBORw0KGgoAAAANSUhEUgAAAX0AAAD8CAYAAACb4nSYAAAABHNCSVQICAgIfAhkiAAAAAlwSFlz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\n",
      "text/plain": [
       "<matplotlib.figure.Figure at 0x1a0fe957f0>"
      ]
     },
     "metadata": {},
     "output_type": "display_data"
    }
   ],
=======
   "execution_count": null,
   "metadata": {
    "collapsed": true
   },
   "outputs": [],
>>>>>>> 6b2452a9317f789f262b2ed65049f56269cb8a94
   "source": [
    "thresholds = np.linspace(0.01,0.99,50)\n",
    "mcc = np.array([matthews_corrcoef(y,preds>thr) for thr in thresholds])\n",
    "plt.plot(thresholds,mcc)\n",
    "best_threshold = thresholds[mcc.argmax()]\n",
    "print(mcc.max())"
   ]
  },
  {
   "cell_type": "code",
   "execution_count": null,
<<<<<<< HEAD
   "metadata": {},
=======
   "metadata": {
    "collapsed": true
   },
>>>>>>> 6b2452a9317f789f262b2ed65049f56269cb8a94
   "outputs": [],
   "source": []
  },
  {
   "cell_type": "code",
   "execution_count": null,
<<<<<<< HEAD
   "metadata": {},
=======
   "metadata": {
    "collapsed": true
   },
>>>>>>> 6b2452a9317f789f262b2ed65049f56269cb8a94
   "outputs": [],
   "source": []
  },
  {
   "cell_type": "code",
   "execution_count": null,
   "metadata": {
    "collapsed": true
   },
   "outputs": [],
   "source": []
  }
 ],
 "metadata": {
  "kernelspec": {
   "display_name": "Python 3",
   "language": "python",
   "name": "python3"
  },
  "language_info": {
   "codemirror_mode": {
    "name": "ipython",
    "version": 3
   },
   "file_extension": ".py",
   "mimetype": "text/x-python",
   "name": "python",
   "nbconvert_exporter": "python",
   "pygments_lexer": "ipython3",
<<<<<<< HEAD
   "version": "3.6.3"
=======
   "version": "3.6.2"
>>>>>>> 6b2452a9317f789f262b2ed65049f56269cb8a94
  }
 },
 "nbformat": 4,
 "nbformat_minor": 2
}
