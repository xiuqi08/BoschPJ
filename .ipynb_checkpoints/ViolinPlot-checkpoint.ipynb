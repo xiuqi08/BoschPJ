{
 "cells": [
  {
   "cell_type": "code",
   "execution_count": 1,
   "metadata": {},
   "outputs": [
    {
     "data": {
      "text/plain": [
       "970"
      ]
     },
     "execution_count": 1,
     "metadata": {},
     "output_type": "execute_result"
    }
   ],
   "source": [
    "from scipy import stats\n",
    "import pandas as pd\n",
    "import numpy as np\n",
    "import matplotlib as mpl\n",
    "mpl.use('Agg')\n",
    "import matplotlib.pyplot as plt\n",
    "import seaborn as sns\n",
    "\n",
    "DATA_DIR = \"./\"\n",
    "\n",
    "TRAIN_NUMERIC = \"{0}/train_numeric.csv\".format(DATA_DIR)\n",
    "TEST_NUMERIC = \"{0}/test_numeric.csv\".format(DATA_DIR)\n",
    "\n",
    "COL_BATCH = 100\n",
    "numeric_cols = pd.read_csv(TRAIN_NUMERIC, nrows = 1).columns.values\n",
    "len(numeric_cols)"
   ]
  },
  {
   "cell_type": "code",
   "execution_count": null,
   "metadata": {
    "collapsed": true
   },
   "outputs": [],
   "source": [
    "for n_ in range(int(len(numeric_cols)/COL_BATCH)):\n",
    "    cols = numeric_cols[(COL_BATCH*n_):(COL_BATCH*(n_+1))].tolist()\n",
    "    train = pd.read_csv(TRAIN_NUMERIC, index_col=0, usecols=(cols+['Response']))\n",
    "    x_neg,x_pos = train[train['Response']==0].iloc[:,:-1],train[train['Response']==1].iloc[:,:-1]\n",
    "    \n",
    "    BATCH_SIZE = 5\n",
    "    dummy = []\n",
    "    source = train.drop('Response',axis=1)\n",
    "    for i in list(range(0,train.shape[1],BATCH_SIZE)):\n",
    "        data = source.iloc[:,i:i+BATCH_SIZE]\n",
    "        data_cols = data.columns.tolist()\n",
    "        dummy.append(pd.melt(pd.concat([data,train.Response],axis=1),id_vars='Response',value_vars=data_cols))\n",
    "        \n",
    "    FIGSIZE = (3*(BATCH_SIZE),4*(COL_BATCH/BATCH_SIZE))\n",
    "    fig, axs = plt.subplots(len(dummy),figsize=FIGSIZE)\n",
    "    for data,ax in zip(dummy,axs):\n",
    "        v_plots = sbn.violinplot(x='variable',y='value',hue='Response',data=data,ax=ax,split=True)\n",
    "    v_plots.get_figure().savefig(\"violin_{0}.jpg\".format(n_))"
   ]
  },
  {
   "cell_type": "code",
   "execution_count": null,
   "metadata": {
    "collapsed": true
   },
   "outputs": [],
   "source": []
  },
  {
   "cell_type": "code",
   "execution_count": null,
   "metadata": {
    "collapsed": true
   },
   "outputs": [],
   "source": []
  }
 ],
 "metadata": {
  "kernelspec": {
   "display_name": "Python 3",
   "language": "python",
   "name": "python3"
  },
  "language_info": {
   "codemirror_mode": {
    "name": "ipython",
    "version": 3
   },
   "file_extension": ".py",
   "mimetype": "text/x-python",
   "name": "python",
   "nbconvert_exporter": "python",
   "pygments_lexer": "ipython3",
   "version": "3.6.2"
  }
 },
 "nbformat": 4,
 "nbformat_minor": 2
}
