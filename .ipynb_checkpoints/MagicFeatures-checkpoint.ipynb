{
 "cells": [
  {
   "cell_type": "code",
   "execution_count": 3,
   "metadata": {
    "collapsed": true
   },
   "outputs": [],
   "source": [
    "import pandas as pd\n",
    "import numpy as np\n",
    "import xgboost as xgb\n",
    "import warnings\n",
    "warnings.filterwarnings('ignore')"
   ]
  },
  {
   "cell_type": "code",
   "execution_count": 4,
   "metadata": {
    "collapsed": true
   },
   "outputs": [],
   "source": [
    "# Global parameters\n",
    "DATA_DIR = \"/Users/xiuqi/Downloads/Data/Bosch/\"\n",
    "ID_COL = 'Id'\n",
    "TARGET_COL = 'Response'\n",
    "SEED = 0\n",
    "CHUNKSIZE = 10000\n",
    "NROWS = 50000"
   ]
  },
  {
   "cell_type": "code",
   "execution_count": 5,
   "metadata": {
    "collapsed": true
   },
   "outputs": [],
   "source": [
    "TRAIN_NUMERIC = \"{0}/train_numeric.csv\".format(DATA_DIR)\n",
    "TRAIN_DATE = \"{0}/train_date.csv\".format(DATA_DIR)\n",
    "\n",
    "TEST_NUMERIC = \"{0}/test_numeric.csv\".format(DATA_DIR)\n",
    "TEST_DATE = \"{0}/test_date.csv\".format(DATA_DIR)\n",
    "\n",
    "#train = pd.read_csv(TRAIN_NUMERIC, usecols=[ID_COL,TARGET_COL],\n",
    "#                   nrows=NROWS)\n",
    "#test = pd.read_csv(TEST_NUMERIC, usecols=[ID_COL],nrows=NROWS)\n",
    "train = pd.read_csv(TRAIN_NUMERIC, nrows=NROWS)\n",
    "test = pd.read_csv(TEST_NUMERIC, nrows=NROWS)\n",
    "\n",
    "\n",
    "train['StartTime'] = -1\n",
    "test['StartTime'] = -1"
   ]
  },
  {
   "cell_type": "code",
   "execution_count": 6,
   "metadata": {
    "collapsed": true
   },
   "outputs": [],
   "source": [
    "nrows = 0\n",
    "for tr, te in zip(pd.read_csv(TRAIN_DATE, chunksize=CHUNKSIZE),\n",
    "                  pd.read_csv(TEST_DATE, chunksize=CHUNKSIZE)):\n",
    "    feats = np.setdiff1d(tr.columns,[ID_COL])\n",
    "    \n",
    "    stime_tr = tr[feats].min(axis=1).values\n",
    "    stime_te = te[feats].min(axis=1).values\n",
    "\n",
    "    train.loc[train.Id.isin(tr.Id),'StartTime'] = stime_tr\n",
    "    test.loc[test.Id.isin(te.Id),'StartTime'] = stime_te\n",
    "    \n",
    "    nrows += CHUNKSIZE\n",
    "    if nrows >= NROWS:\n",
    "        break"
   ]
  },
  {
   "cell_type": "code",
   "execution_count": 7,
   "metadata": {},
   "outputs": [
    {
     "data": {
      "text/html": [
       "<div>\n",
       "<style>\n",
       "    .dataframe thead tr:only-child th {\n",
       "        text-align: right;\n",
       "    }\n",
       "\n",
       "    .dataframe thead th {\n",
       "        text-align: left;\n",
       "    }\n",
       "\n",
       "    .dataframe tbody tr th {\n",
       "        vertical-align: top;\n",
       "    }\n",
       "</style>\n",
       "<table border=\"1\" class=\"dataframe\">\n",
       "  <thead>\n",
       "    <tr style=\"text-align: right;\">\n",
       "      <th></th>\n",
       "      <th>index</th>\n",
       "      <th>Id</th>\n",
       "      <th>L0_S0_F0</th>\n",
       "      <th>L0_S0_F10</th>\n",
       "      <th>L0_S0_F12</th>\n",
       "      <th>L0_S0_F14</th>\n",
       "      <th>L0_S0_F16</th>\n",
       "      <th>L0_S0_F18</th>\n",
       "      <th>L0_S0_F2</th>\n",
       "      <th>L0_S0_F20</th>\n",
       "      <th>...</th>\n",
       "      <th>L3_S50_F4247</th>\n",
       "      <th>L3_S50_F4249</th>\n",
       "      <th>L3_S50_F4251</th>\n",
       "      <th>L3_S50_F4253</th>\n",
       "      <th>L3_S51_F4256</th>\n",
       "      <th>L3_S51_F4258</th>\n",
       "      <th>L3_S51_F4260</th>\n",
       "      <th>L3_S51_F4262</th>\n",
       "      <th>Response</th>\n",
       "      <th>StartTime</th>\n",
       "    </tr>\n",
       "  </thead>\n",
       "  <tbody>\n",
       "    <tr>\n",
       "      <th>0</th>\n",
       "      <td>0</td>\n",
       "      <td>4</td>\n",
       "      <td>0.030</td>\n",
       "      <td>0.116</td>\n",
       "      <td>-0.015</td>\n",
       "      <td>-0.032</td>\n",
       "      <td>0.020</td>\n",
       "      <td>0.083</td>\n",
       "      <td>-0.034</td>\n",
       "      <td>-0.273</td>\n",
       "      <td>...</td>\n",
       "      <td>NaN</td>\n",
       "      <td>NaN</td>\n",
       "      <td>NaN</td>\n",
       "      <td>NaN</td>\n",
       "      <td>NaN</td>\n",
       "      <td>NaN</td>\n",
       "      <td>NaN</td>\n",
       "      <td>NaN</td>\n",
       "      <td>0.0</td>\n",
       "      <td>82.24</td>\n",
       "    </tr>\n",
       "    <tr>\n",
       "      <th>1</th>\n",
       "      <td>1</td>\n",
       "      <td>6</td>\n",
       "      <td>NaN</td>\n",
       "      <td>NaN</td>\n",
       "      <td>NaN</td>\n",
       "      <td>NaN</td>\n",
       "      <td>NaN</td>\n",
       "      <td>NaN</td>\n",
       "      <td>NaN</td>\n",
       "      <td>NaN</td>\n",
       "      <td>...</td>\n",
       "      <td>NaN</td>\n",
       "      <td>NaN</td>\n",
       "      <td>NaN</td>\n",
       "      <td>NaN</td>\n",
       "      <td>NaN</td>\n",
       "      <td>NaN</td>\n",
       "      <td>NaN</td>\n",
       "      <td>NaN</td>\n",
       "      <td>0.0</td>\n",
       "      <td>1313.12</td>\n",
       "    </tr>\n",
       "    <tr>\n",
       "      <th>2</th>\n",
       "      <td>2</td>\n",
       "      <td>7</td>\n",
       "      <td>0.088</td>\n",
       "      <td>0.025</td>\n",
       "      <td>-0.015</td>\n",
       "      <td>-0.072</td>\n",
       "      <td>-0.225</td>\n",
       "      <td>-0.147</td>\n",
       "      <td>0.086</td>\n",
       "      <td>0.250</td>\n",
       "      <td>...</td>\n",
       "      <td>NaN</td>\n",
       "      <td>NaN</td>\n",
       "      <td>NaN</td>\n",
       "      <td>NaN</td>\n",
       "      <td>NaN</td>\n",
       "      <td>NaN</td>\n",
       "      <td>NaN</td>\n",
       "      <td>NaN</td>\n",
       "      <td>0.0</td>\n",
       "      <td>1618.70</td>\n",
       "    </tr>\n",
       "    <tr>\n",
       "      <th>3</th>\n",
       "      <td>3</td>\n",
       "      <td>9</td>\n",
       "      <td>-0.036</td>\n",
       "      <td>0.161</td>\n",
       "      <td>0.022</td>\n",
       "      <td>0.128</td>\n",
       "      <td>-0.026</td>\n",
       "      <td>-0.046</td>\n",
       "      <td>-0.064</td>\n",
       "      <td>-0.253</td>\n",
       "      <td>...</td>\n",
       "      <td>NaN</td>\n",
       "      <td>NaN</td>\n",
       "      <td>NaN</td>\n",
       "      <td>NaN</td>\n",
       "      <td>NaN</td>\n",
       "      <td>NaN</td>\n",
       "      <td>NaN</td>\n",
       "      <td>NaN</td>\n",
       "      <td>0.0</td>\n",
       "      <td>1149.20</td>\n",
       "    </tr>\n",
       "    <tr>\n",
       "      <th>4</th>\n",
       "      <td>4</td>\n",
       "      <td>11</td>\n",
       "      <td>-0.055</td>\n",
       "      <td>0.025</td>\n",
       "      <td>0.030</td>\n",
       "      <td>0.168</td>\n",
       "      <td>-0.169</td>\n",
       "      <td>-0.099</td>\n",
       "      <td>-0.086</td>\n",
       "      <td>0.042</td>\n",
       "      <td>...</td>\n",
       "      <td>NaN</td>\n",
       "      <td>NaN</td>\n",
       "      <td>NaN</td>\n",
       "      <td>NaN</td>\n",
       "      <td>NaN</td>\n",
       "      <td>NaN</td>\n",
       "      <td>NaN</td>\n",
       "      <td>NaN</td>\n",
       "      <td>0.0</td>\n",
       "      <td>602.64</td>\n",
       "    </tr>\n",
       "  </tbody>\n",
       "</table>\n",
       "<p>5 rows × 972 columns</p>\n",
       "</div>"
      ],
      "text/plain": [
       "   index  Id  L0_S0_F0  L0_S0_F10  L0_S0_F12  L0_S0_F14  L0_S0_F16  L0_S0_F18  \\\n",
       "0      0   4     0.030      0.116     -0.015     -0.032      0.020      0.083   \n",
       "1      1   6       NaN        NaN        NaN        NaN        NaN        NaN   \n",
       "2      2   7     0.088      0.025     -0.015     -0.072     -0.225     -0.147   \n",
       "3      3   9    -0.036      0.161      0.022      0.128     -0.026     -0.046   \n",
       "4      4  11    -0.055      0.025      0.030      0.168     -0.169     -0.099   \n",
       "\n",
       "   L0_S0_F2  L0_S0_F20    ...      L3_S50_F4247  L3_S50_F4249  L3_S50_F4251  \\\n",
       "0    -0.034     -0.273    ...               NaN           NaN           NaN   \n",
       "1       NaN        NaN    ...               NaN           NaN           NaN   \n",
       "2     0.086      0.250    ...               NaN           NaN           NaN   \n",
       "3    -0.064     -0.253    ...               NaN           NaN           NaN   \n",
       "4    -0.086      0.042    ...               NaN           NaN           NaN   \n",
       "\n",
       "   L3_S50_F4253  L3_S51_F4256  L3_S51_F4258  L3_S51_F4260  L3_S51_F4262  \\\n",
       "0           NaN           NaN           NaN           NaN           NaN   \n",
       "1           NaN           NaN           NaN           NaN           NaN   \n",
       "2           NaN           NaN           NaN           NaN           NaN   \n",
       "3           NaN           NaN           NaN           NaN           NaN   \n",
       "4           NaN           NaN           NaN           NaN           NaN   \n",
       "\n",
       "   Response  StartTime  \n",
       "0       0.0      82.24  \n",
       "1       0.0    1313.12  \n",
       "2       0.0    1618.70  \n",
       "3       0.0    1149.20  \n",
       "4       0.0     602.64  \n",
       "\n",
       "[5 rows x 972 columns]"
      ]
     },
     "execution_count": 7,
     "metadata": {},
     "output_type": "execute_result"
    }
   ],
   "source": [
    "ntrain = train.shape[0]\n",
    "train_test = pd.concat((train,test)).reset_index(drop=True).reset_index(drop=False)\n",
    "train_test.head()"
   ]
  },
  {
   "cell_type": "code",
   "execution_count": 8,
   "metadata": {
    "collapsed": true
   },
   "outputs": [],
   "source": [
    "train_test['MagicFeature1'] = train_test[ID_COL].diff().fillna(999999).astype(int)\n",
    "train_test['MagicFeature2'] = train_test[ID_COL].iloc[::-1].diff().fillna(999999).astype(int)\n",
    "\n",
    "train_test = train_test.sort_values(by=['StartTime',ID_COL],ascending=True)\n",
    "\n",
    "train_test['MagicFeature3'] = train_test[ID_COL].diff().fillna(999999).astype(int)\n",
    "train_test['MagicFeature4'] = train_test[ID_COL].iloc[::-1].diff().fillna(999999).astype(int)\n",
    "\n",
    "train_test = train_test.sort_values(by=['index']).drop(['index'],axis=1)\n",
    "train = train_test.iloc[:ntrain,:]\n",
    "test = train_test.iloc[ntrain:,:]\n",
    "\n",
    "features = np.setdiff1d(list(train.columns),[TARGET_COL,ID_COL])\n",
    "y = train.Response.ravel()\n",
    "train = np.array(train[features])"
   ]
  },
  {
   "cell_type": "code",
   "execution_count": 9,
   "metadata": {
    "collapsed": true
   },
   "outputs": [],
   "source": [
    "prior = np.sum(y) / (1.*len(y))\n",
    "\n",
    "xgb_params = {\n",
    "    'seed': 0,\n",
    "    'colsample_bytree': 0.7,\n",
    "    'silent': 1,\n",
    "    'subsample': 0.7,\n",
    "    'learning_rate': 0.05,\n",
    "    'objective': 'binary:logistic',\n",
    "    'max_depth': 4,\n",
    "    'num_parallel_tree': 1,\n",
    "    'min_child_weight': 2,\n",
    "    'eval_metric': 'auc',\n",
    "    'base_score': prior\n",
    "}"
   ]
  },
  {
   "cell_type": "code",
   "execution_count": 13,
   "metadata": {},
   "outputs": [
    {
     "name": "stdout",
     "output_type": "stream",
     "text": [
      "[0]\ttrain-auc:0.806825+0.100702\ttest-auc:0.777568+0.117467\n",
      "[1]\ttrain-auc:0.881566+0.0785624\ttest-auc:0.839014+0.0959552\n",
      "[2]\ttrain-auc:0.930091+0.0137214\ttest-auc:0.884435+0.0187959\n",
      "[3]\ttrain-auc:0.935663+0.0113461\ttest-auc:0.882371+0.0131549\n",
      "[4]\ttrain-auc:0.936965+0.0112054\ttest-auc:0.882712+0.0154249\n",
      "[5]\ttrain-auc:0.942715+0.00750085\ttest-auc:0.882243+0.0169013\n",
      "[6]\ttrain-auc:0.944241+0.00694038\ttest-auc:0.882456+0.0202978\n",
      "CV-Mean: 0.8844350000000001+0.018795932379107986\n"
     ]
    }
   ],
   "source": [
    "from sklearn.metrics import matthews_corrcoef\n",
    "\n",
    "dtrain = xgb.DMatrix(train, label=y)\n",
    "res = xgb.cv(xgb_params, dtrain, num_boost_round=10, nfold=4,\n",
    "            seed=0, stratified=True, early_stopping_rounds = 5,\n",
    "            verbose_eval=1, show_stdv=True)\n",
    "\n",
    "cv_mean = res.iloc[-1,0]\n",
    "cv_std = res.iloc[-1,1]\n",
    "\n",
    "print('CV-Mean: {0}+{1}'.format(cv_mean,cv_std))"
   ]
  },
  {
   "cell_type": "code",
   "execution_count": 1,
   "metadata": {},
   "outputs": [
    {
     "name": "stderr",
     "output_type": "stream",
     "text": [
      "/Users/xiuqi/anaconda3/lib/python3.6/site-packages/sklearn/cross_validation.py:41: DeprecationWarning: This module was deprecated in version 0.18 in favor of the model_selection module into which all the refactored classes and functions are moved. Also note that the interface of the new CV iterators are different from that of this module. This module will be removed in 0.20.\n",
      "  \"This module will be removed in 0.20.\", DeprecationWarning)\n",
      "/Users/xiuqi/anaconda3/lib/python3.6/site-packages/sklearn/grid_search.py:42: DeprecationWarning: This module was deprecated in version 0.18 in favor of the model_selection module into which all the refactored classes and functions are moved. This module will be removed in 0.20.\n",
      "  DeprecationWarning)\n"
     ]
    }
   ],
   "source": [
    "from xgboost.sklearn import XGBClassifier\n",
    "from sklearn import cross_validation, metrics\n",
    "from sklearn.grid_search import GridSearchCV\n",
    "from sklearn.metrics import matthews_corrcoef\n",
    "\n",
    "import matplotlib.pylab as plt\n",
    "%matplotlib inline\n",
    "from matplotlib.pylab import rcParams\n",
    "rcParams['figure.figsize'] = 12,4"
   ]
  },
  {
   "cell_type": "code",
   "execution_count": 21,
   "metadata": {},
   "outputs": [
    {
     "data": {
      "text/plain": [
       "[<matplotlib.lines.Line2D at 0x108be9128>]"
      ]
     },
     "execution_count": 21,
     "metadata": {},
     "output_type": "execute_result"
    },
    {
     "data": {
      "image/png": "[encoded data removed]",
      "text/plain": [
       "<matplotlib.figure.Figure at 0x1018c08d0>"
      ]
     },
     "metadata": {},
     "output_type": "display_data"
    }
   ],
   "source": [
    "from sklearn.cross_validation import StratifiedKFold\n",
    "clf = XGBClassifier(\n",
    "    learning_rate = 0.01,\n",
    "    n_estimators = 420,\n",
    "    max_depth=5,\n",
    "    min_child_weight = 1\n",
    ")\n",
    "cv = StratifiedKFold(y,n_folds=4)\n",
    "preds = np.ones(y.shape[0])\n",
    "for i, (tr,te) in enumerate(cv):\n",
    "    preds[te] = clf.fit(train[tr],y[tr]).predict_proba(train[te])[:,1]\n",
    "\n",
    "thresholds = np.linspace(0.01,0.99,50)\n",
    "mcc = np.array([matthews_corrcoef(y,preds>thr) for thr in thresholds])\n",
    "plt.plot(thresholds,mcc)"
   ]
  },
  {
   "cell_type": "code",
   "execution_count": null,
   "metadata": {
    "collapsed": true
   },
   "outputs": [],
   "source": []
  },
  {
   "cell_type": "code",
   "execution_count": null,
   "metadata": {
    "collapsed": true
   },
   "outputs": [],
   "source": []
  },
  {
   "cell_type": "code",
   "execution_count": null,
   "metadata": {
    "collapsed": true
   },
   "outputs": [],
   "source": []
  },
  {
   "cell_type": "code",
   "execution_count": null,
   "metadata": {
    "collapsed": true
   },
   "outputs": [],
   "source": []
  }
 ],
 "metadata": {
  "kernelspec": {
   "display_name": "Python 3",
   "language": "python",
   "name": "python3"
  },
  "language_info": {
   "codemirror_mode": {
    "name": "ipython",
    "version": 3
   },
   "file_extension": ".py",
   "mimetype": "text/x-python",
   "name": "python",
   "nbconvert_exporter": "python",
   "pygments_lexer": "ipython3",
   "version": "3.6.2"
  }
 },
 "nbformat": 4,
 "nbformat_minor": 2
}
